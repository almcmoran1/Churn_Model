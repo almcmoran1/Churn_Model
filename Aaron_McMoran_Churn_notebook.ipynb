{
 "cells": [
  {
   "cell_type": "markdown",
   "metadata": {},
   "source": [
    "# Churn Model "
   ]
  },
  {
   "cell_type": "code",
   "execution_count": null,
   "metadata": {
    "collapsed": true
   },
   "outputs": [],
   "source": []
  },
  {
   "cell_type": "code",
   "execution_count": 1,
   "metadata": {
    "collapsed": false
   },
   "outputs": [],
   "source": [
    "from __future__ import division\n",
    "import pandas as pd\n",
    "import numpy as np\n",
    "import matplotlib.pyplot as plt\n",
    "from sklearn.preprocessing import StandardScaler\n",
    "from sklearn.cross_validation import train_test_split\n",
    "from sklearn.cross_validation import ShuffleSplit\n",
    "from sklearn import cross_validation\n",
    "from sklearn.svm import SVC\n",
    "from sklearn import ensemble\n",
    "from sklearn import linear_model\n",
    "from sklearn import metrics\n",
    "from sklearn.metrics import confusion_matrix\n",
    "import seaborn as sns\n",
    "from pandas.tools.plotting import scatter_matrix\n",
    "from sklearn import linear_model\n",
    "from sklearn import grid_search\n",
    "import sklearn\n",
    "import statsmodels.api as sm\n",
    "from pprint import pprint\n",
    "%matplotlib inline"
   ]
  },
  {
   "cell_type": "markdown",
   "metadata": {},
   "source": [
    "### Predicting Churn"
   ]
  },
  {
   "cell_type": "code",
   "execution_count": 2,
   "metadata": {
    "collapsed": true
   },
   "outputs": [],
   "source": [
    "#read in the data\n",
    "churn_data = pd.read_csv('../data/churn.csv')"
   ]
  },
  {
   "cell_type": "code",
   "execution_count": 3,
   "metadata": {
    "collapsed": false
   },
   "outputs": [
    {
     "data": {
      "text/html": [
       "<div>\n",
       "<table border=\"1\" class=\"dataframe\">\n",
       "  <thead>\n",
       "    <tr style=\"text-align: right;\">\n",
       "      <th></th>\n",
       "      <th>State</th>\n",
       "      <th>Account Length</th>\n",
       "      <th>Area Code</th>\n",
       "      <th>Phone</th>\n",
       "      <th>Int'l Plan</th>\n",
       "      <th>VMail Plan</th>\n",
       "      <th>VMail Message</th>\n",
       "      <th>Day Mins</th>\n",
       "      <th>Day Calls</th>\n",
       "      <th>Day Charge</th>\n",
       "      <th>...</th>\n",
       "      <th>Eve Calls</th>\n",
       "      <th>Eve Charge</th>\n",
       "      <th>Night Mins</th>\n",
       "      <th>Night Calls</th>\n",
       "      <th>Night Charge</th>\n",
       "      <th>Intl Mins</th>\n",
       "      <th>Intl Calls</th>\n",
       "      <th>Intl Charge</th>\n",
       "      <th>CustServ Calls</th>\n",
       "      <th>Churn?</th>\n",
       "    </tr>\n",
       "  </thead>\n",
       "  <tbody>\n",
       "    <tr>\n",
       "      <th>0</th>\n",
       "      <td>KS</td>\n",
       "      <td>128</td>\n",
       "      <td>415</td>\n",
       "      <td>382-4657</td>\n",
       "      <td>no</td>\n",
       "      <td>yes</td>\n",
       "      <td>25</td>\n",
       "      <td>265.1</td>\n",
       "      <td>110</td>\n",
       "      <td>45.07</td>\n",
       "      <td>...</td>\n",
       "      <td>99</td>\n",
       "      <td>16.78</td>\n",
       "      <td>244.7</td>\n",
       "      <td>91</td>\n",
       "      <td>11.01</td>\n",
       "      <td>10.0</td>\n",
       "      <td>3</td>\n",
       "      <td>2.70</td>\n",
       "      <td>1</td>\n",
       "      <td>False.</td>\n",
       "    </tr>\n",
       "    <tr>\n",
       "      <th>1</th>\n",
       "      <td>OH</td>\n",
       "      <td>107</td>\n",
       "      <td>415</td>\n",
       "      <td>371-7191</td>\n",
       "      <td>no</td>\n",
       "      <td>yes</td>\n",
       "      <td>26</td>\n",
       "      <td>161.6</td>\n",
       "      <td>123</td>\n",
       "      <td>27.47</td>\n",
       "      <td>...</td>\n",
       "      <td>103</td>\n",
       "      <td>16.62</td>\n",
       "      <td>254.4</td>\n",
       "      <td>103</td>\n",
       "      <td>11.45</td>\n",
       "      <td>13.7</td>\n",
       "      <td>3</td>\n",
       "      <td>3.70</td>\n",
       "      <td>1</td>\n",
       "      <td>False.</td>\n",
       "    </tr>\n",
       "    <tr>\n",
       "      <th>2</th>\n",
       "      <td>NJ</td>\n",
       "      <td>137</td>\n",
       "      <td>415</td>\n",
       "      <td>358-1921</td>\n",
       "      <td>no</td>\n",
       "      <td>no</td>\n",
       "      <td>0</td>\n",
       "      <td>243.4</td>\n",
       "      <td>114</td>\n",
       "      <td>41.38</td>\n",
       "      <td>...</td>\n",
       "      <td>110</td>\n",
       "      <td>10.30</td>\n",
       "      <td>162.6</td>\n",
       "      <td>104</td>\n",
       "      <td>7.32</td>\n",
       "      <td>12.2</td>\n",
       "      <td>5</td>\n",
       "      <td>3.29</td>\n",
       "      <td>0</td>\n",
       "      <td>False.</td>\n",
       "    </tr>\n",
       "    <tr>\n",
       "      <th>3</th>\n",
       "      <td>OH</td>\n",
       "      <td>84</td>\n",
       "      <td>408</td>\n",
       "      <td>375-9999</td>\n",
       "      <td>yes</td>\n",
       "      <td>no</td>\n",
       "      <td>0</td>\n",
       "      <td>299.4</td>\n",
       "      <td>71</td>\n",
       "      <td>50.90</td>\n",
       "      <td>...</td>\n",
       "      <td>88</td>\n",
       "      <td>5.26</td>\n",
       "      <td>196.9</td>\n",
       "      <td>89</td>\n",
       "      <td>8.86</td>\n",
       "      <td>6.6</td>\n",
       "      <td>7</td>\n",
       "      <td>1.78</td>\n",
       "      <td>2</td>\n",
       "      <td>False.</td>\n",
       "    </tr>\n",
       "    <tr>\n",
       "      <th>4</th>\n",
       "      <td>OK</td>\n",
       "      <td>75</td>\n",
       "      <td>415</td>\n",
       "      <td>330-6626</td>\n",
       "      <td>yes</td>\n",
       "      <td>no</td>\n",
       "      <td>0</td>\n",
       "      <td>166.7</td>\n",
       "      <td>113</td>\n",
       "      <td>28.34</td>\n",
       "      <td>...</td>\n",
       "      <td>122</td>\n",
       "      <td>12.61</td>\n",
       "      <td>186.9</td>\n",
       "      <td>121</td>\n",
       "      <td>8.41</td>\n",
       "      <td>10.1</td>\n",
       "      <td>3</td>\n",
       "      <td>2.73</td>\n",
       "      <td>3</td>\n",
       "      <td>False.</td>\n",
       "    </tr>\n",
       "  </tbody>\n",
       "</table>\n",
       "<p>5 rows × 21 columns</p>\n",
       "</div>"
      ],
      "text/plain": [
       "  State  Account Length  Area Code     Phone Int'l Plan VMail Plan  \\\n",
       "0    KS             128        415  382-4657         no        yes   \n",
       "1    OH             107        415  371-7191         no        yes   \n",
       "2    NJ             137        415  358-1921         no         no   \n",
       "3    OH              84        408  375-9999        yes         no   \n",
       "4    OK              75        415  330-6626        yes         no   \n",
       "\n",
       "   VMail Message  Day Mins  Day Calls  Day Charge   ...    Eve Calls  \\\n",
       "0             25     265.1        110       45.07   ...           99   \n",
       "1             26     161.6        123       27.47   ...          103   \n",
       "2              0     243.4        114       41.38   ...          110   \n",
       "3              0     299.4         71       50.90   ...           88   \n",
       "4              0     166.7        113       28.34   ...          122   \n",
       "\n",
       "   Eve Charge  Night Mins  Night Calls  Night Charge  Intl Mins  Intl Calls  \\\n",
       "0       16.78       244.7           91         11.01       10.0           3   \n",
       "1       16.62       254.4          103         11.45       13.7           3   \n",
       "2       10.30       162.6          104          7.32       12.2           5   \n",
       "3        5.26       196.9           89          8.86        6.6           7   \n",
       "4       12.61       186.9          121          8.41       10.1           3   \n",
       "\n",
       "   Intl Charge  CustServ Calls  Churn?  \n",
       "0         2.70               1  False.  \n",
       "1         3.70               1  False.  \n",
       "2         3.29               0  False.  \n",
       "3         1.78               2  False.  \n",
       "4         2.73               3  False.  \n",
       "\n",
       "[5 rows x 21 columns]"
      ]
     },
     "execution_count": 3,
     "metadata": {},
     "output_type": "execute_result"
    }
   ],
   "source": [
    "churn_data.head()"
   ]
  },
  {
   "cell_type": "code",
   "execution_count": 4,
   "metadata": {
    "collapsed": false
   },
   "outputs": [
    {
     "name": "stdout",
     "output_type": "stream",
     "text": [
      "State : object\n",
      "Account Length : int64\n",
      "Area Code : int64\n",
      "Phone : object\n",
      "Int'l Plan : object\n",
      "VMail Plan : object\n",
      "VMail Message : int64\n",
      "Day Mins : float64\n",
      "Day Calls : int64\n",
      "Day Charge : float64\n",
      "Eve Mins : float64\n",
      "Eve Calls : int64\n",
      "Eve Charge : float64\n",
      "Night Mins : float64\n",
      "Night Calls : int64\n",
      "Night Charge : float64\n",
      "Intl Mins : float64\n",
      "Intl Calls : int64\n",
      "Intl Charge : float64\n",
      "CustServ Calls : int64\n",
      "Churn? : object\n"
     ]
    }
   ],
   "source": [
    "# look at the dat types\n",
    "for idx, feature in enumerate(churn_data.columns):\n",
    "    print feature, \":\", churn_data.dtypes[idx]"
   ]
  },
  {
   "cell_type": "markdown",
   "metadata": {},
   "source": [
    "***Object type columns will need to be converted to numeric values before feeding into the model.***"
   ]
  },
  {
   "cell_type": "code",
   "execution_count": 5,
   "metadata": {
    "collapsed": false
   },
   "outputs": [
    {
     "data": {
      "text/html": [
       "<div>\n",
       "<table border=\"1\" class=\"dataframe\">\n",
       "  <thead>\n",
       "    <tr style=\"text-align: right;\">\n",
       "      <th></th>\n",
       "      <th>Account Length</th>\n",
       "      <th>Area Code</th>\n",
       "      <th>VMail Message</th>\n",
       "      <th>Day Mins</th>\n",
       "      <th>Day Calls</th>\n",
       "      <th>Day Charge</th>\n",
       "      <th>Eve Mins</th>\n",
       "      <th>Eve Calls</th>\n",
       "      <th>Eve Charge</th>\n",
       "      <th>Night Mins</th>\n",
       "      <th>Night Calls</th>\n",
       "      <th>Night Charge</th>\n",
       "      <th>Intl Mins</th>\n",
       "      <th>Intl Calls</th>\n",
       "      <th>Intl Charge</th>\n",
       "      <th>CustServ Calls</th>\n",
       "    </tr>\n",
       "  </thead>\n",
       "  <tbody>\n",
       "    <tr>\n",
       "      <th>count</th>\n",
       "      <td>3333.000000</td>\n",
       "      <td>3333.000000</td>\n",
       "      <td>3333.000000</td>\n",
       "      <td>3333.000000</td>\n",
       "      <td>3333.000000</td>\n",
       "      <td>3333.000000</td>\n",
       "      <td>3333.000000</td>\n",
       "      <td>3333.000000</td>\n",
       "      <td>3333.000000</td>\n",
       "      <td>3333.000000</td>\n",
       "      <td>3333.000000</td>\n",
       "      <td>3333.000000</td>\n",
       "      <td>3333.000000</td>\n",
       "      <td>3333.000000</td>\n",
       "      <td>3333.000000</td>\n",
       "      <td>3333.000000</td>\n",
       "    </tr>\n",
       "    <tr>\n",
       "      <th>mean</th>\n",
       "      <td>101.064806</td>\n",
       "      <td>437.182418</td>\n",
       "      <td>8.099010</td>\n",
       "      <td>179.775098</td>\n",
       "      <td>100.435644</td>\n",
       "      <td>30.562307</td>\n",
       "      <td>200.980348</td>\n",
       "      <td>100.114311</td>\n",
       "      <td>17.083540</td>\n",
       "      <td>200.872037</td>\n",
       "      <td>100.107711</td>\n",
       "      <td>9.039325</td>\n",
       "      <td>10.237294</td>\n",
       "      <td>4.479448</td>\n",
       "      <td>2.764581</td>\n",
       "      <td>1.562856</td>\n",
       "    </tr>\n",
       "    <tr>\n",
       "      <th>std</th>\n",
       "      <td>39.822106</td>\n",
       "      <td>42.371290</td>\n",
       "      <td>13.688365</td>\n",
       "      <td>54.467389</td>\n",
       "      <td>20.069084</td>\n",
       "      <td>9.259435</td>\n",
       "      <td>50.713844</td>\n",
       "      <td>19.922625</td>\n",
       "      <td>4.310668</td>\n",
       "      <td>50.573847</td>\n",
       "      <td>19.568609</td>\n",
       "      <td>2.275873</td>\n",
       "      <td>2.791840</td>\n",
       "      <td>2.461214</td>\n",
       "      <td>0.753773</td>\n",
       "      <td>1.315491</td>\n",
       "    </tr>\n",
       "    <tr>\n",
       "      <th>min</th>\n",
       "      <td>1.000000</td>\n",
       "      <td>408.000000</td>\n",
       "      <td>0.000000</td>\n",
       "      <td>0.000000</td>\n",
       "      <td>0.000000</td>\n",
       "      <td>0.000000</td>\n",
       "      <td>0.000000</td>\n",
       "      <td>0.000000</td>\n",
       "      <td>0.000000</td>\n",
       "      <td>23.200000</td>\n",
       "      <td>33.000000</td>\n",
       "      <td>1.040000</td>\n",
       "      <td>0.000000</td>\n",
       "      <td>0.000000</td>\n",
       "      <td>0.000000</td>\n",
       "      <td>0.000000</td>\n",
       "    </tr>\n",
       "    <tr>\n",
       "      <th>25%</th>\n",
       "      <td>74.000000</td>\n",
       "      <td>408.000000</td>\n",
       "      <td>0.000000</td>\n",
       "      <td>143.700000</td>\n",
       "      <td>87.000000</td>\n",
       "      <td>24.430000</td>\n",
       "      <td>166.600000</td>\n",
       "      <td>87.000000</td>\n",
       "      <td>14.160000</td>\n",
       "      <td>167.000000</td>\n",
       "      <td>87.000000</td>\n",
       "      <td>7.520000</td>\n",
       "      <td>8.500000</td>\n",
       "      <td>3.000000</td>\n",
       "      <td>2.300000</td>\n",
       "      <td>1.000000</td>\n",
       "    </tr>\n",
       "    <tr>\n",
       "      <th>50%</th>\n",
       "      <td>101.000000</td>\n",
       "      <td>415.000000</td>\n",
       "      <td>0.000000</td>\n",
       "      <td>179.400000</td>\n",
       "      <td>101.000000</td>\n",
       "      <td>30.500000</td>\n",
       "      <td>201.400000</td>\n",
       "      <td>100.000000</td>\n",
       "      <td>17.120000</td>\n",
       "      <td>201.200000</td>\n",
       "      <td>100.000000</td>\n",
       "      <td>9.050000</td>\n",
       "      <td>10.300000</td>\n",
       "      <td>4.000000</td>\n",
       "      <td>2.780000</td>\n",
       "      <td>1.000000</td>\n",
       "    </tr>\n",
       "    <tr>\n",
       "      <th>75%</th>\n",
       "      <td>127.000000</td>\n",
       "      <td>510.000000</td>\n",
       "      <td>20.000000</td>\n",
       "      <td>216.400000</td>\n",
       "      <td>114.000000</td>\n",
       "      <td>36.790000</td>\n",
       "      <td>235.300000</td>\n",
       "      <td>114.000000</td>\n",
       "      <td>20.000000</td>\n",
       "      <td>235.300000</td>\n",
       "      <td>113.000000</td>\n",
       "      <td>10.590000</td>\n",
       "      <td>12.100000</td>\n",
       "      <td>6.000000</td>\n",
       "      <td>3.270000</td>\n",
       "      <td>2.000000</td>\n",
       "    </tr>\n",
       "    <tr>\n",
       "      <th>max</th>\n",
       "      <td>243.000000</td>\n",
       "      <td>510.000000</td>\n",
       "      <td>51.000000</td>\n",
       "      <td>350.800000</td>\n",
       "      <td>165.000000</td>\n",
       "      <td>59.640000</td>\n",
       "      <td>363.700000</td>\n",
       "      <td>170.000000</td>\n",
       "      <td>30.910000</td>\n",
       "      <td>395.000000</td>\n",
       "      <td>175.000000</td>\n",
       "      <td>17.770000</td>\n",
       "      <td>20.000000</td>\n",
       "      <td>20.000000</td>\n",
       "      <td>5.400000</td>\n",
       "      <td>9.000000</td>\n",
       "    </tr>\n",
       "  </tbody>\n",
       "</table>\n",
       "</div>"
      ],
      "text/plain": [
       "       Account Length    Area Code  VMail Message     Day Mins    Day Calls  \\\n",
       "count     3333.000000  3333.000000    3333.000000  3333.000000  3333.000000   \n",
       "mean       101.064806   437.182418       8.099010   179.775098   100.435644   \n",
       "std         39.822106    42.371290      13.688365    54.467389    20.069084   \n",
       "min          1.000000   408.000000       0.000000     0.000000     0.000000   \n",
       "25%         74.000000   408.000000       0.000000   143.700000    87.000000   \n",
       "50%        101.000000   415.000000       0.000000   179.400000   101.000000   \n",
       "75%        127.000000   510.000000      20.000000   216.400000   114.000000   \n",
       "max        243.000000   510.000000      51.000000   350.800000   165.000000   \n",
       "\n",
       "        Day Charge     Eve Mins    Eve Calls   Eve Charge   Night Mins  \\\n",
       "count  3333.000000  3333.000000  3333.000000  3333.000000  3333.000000   \n",
       "mean     30.562307   200.980348   100.114311    17.083540   200.872037   \n",
       "std       9.259435    50.713844    19.922625     4.310668    50.573847   \n",
       "min       0.000000     0.000000     0.000000     0.000000    23.200000   \n",
       "25%      24.430000   166.600000    87.000000    14.160000   167.000000   \n",
       "50%      30.500000   201.400000   100.000000    17.120000   201.200000   \n",
       "75%      36.790000   235.300000   114.000000    20.000000   235.300000   \n",
       "max      59.640000   363.700000   170.000000    30.910000   395.000000   \n",
       "\n",
       "       Night Calls  Night Charge    Intl Mins   Intl Calls  Intl Charge  \\\n",
       "count  3333.000000   3333.000000  3333.000000  3333.000000  3333.000000   \n",
       "mean    100.107711      9.039325    10.237294     4.479448     2.764581   \n",
       "std      19.568609      2.275873     2.791840     2.461214     0.753773   \n",
       "min      33.000000      1.040000     0.000000     0.000000     0.000000   \n",
       "25%      87.000000      7.520000     8.500000     3.000000     2.300000   \n",
       "50%     100.000000      9.050000    10.300000     4.000000     2.780000   \n",
       "75%     113.000000     10.590000    12.100000     6.000000     3.270000   \n",
       "max     175.000000     17.770000    20.000000    20.000000     5.400000   \n",
       "\n",
       "       CustServ Calls  \n",
       "count     3333.000000  \n",
       "mean         1.562856  \n",
       "std          1.315491  \n",
       "min          0.000000  \n",
       "25%          1.000000  \n",
       "50%          1.000000  \n",
       "75%          2.000000  \n",
       "max          9.000000  "
      ]
     },
     "execution_count": 5,
     "metadata": {},
     "output_type": "execute_result"
    }
   ],
   "source": [
    "# Let's take a peak at some summary statistics\n",
    "churn_data.describe()"
   ]
  },
  {
   "cell_type": "markdown",
   "metadata": {},
   "source": [
    "*** The means of the numerical variables are of different magnitude meaning I will certainly need to normalize data.  Before normalizing, though, I need to perform some EDA***"
   ]
  },
  {
   "cell_type": "code",
   "execution_count": 6,
   "metadata": {
    "collapsed": false
   },
   "outputs": [
    {
     "data": {
      "image/png": "[encoded data removed]",
      "text/plain": [
       "<matplotlib.figure.Figure at 0x110176750>"
      ]
     },
     "metadata": {},
     "output_type": "display_data"
    }
   ],
   "source": [
    "#Looking at distribution of response variable\n",
    "new_style = {'grid': False}\n",
    "churn_data.groupby('Churn?').apply(len).plot(kind='bar', fontsize = 15, rot = 360)\n",
    "plt.show()"
   ]
  },
  {
   "cell_type": "markdown",
   "metadata": {},
   "source": [
    "***Significantly unbalanced classes.  AdaBoost and Random Forests have the ability to handle unbalanced classes.  In addition, I'll need to look at other metrics besides accuracy, precision and recall when comparing classifiers. Looking at AUC Roc Curves and the confusion matrix of each model will be good indicators of which model to prefer.  Also, it may be worth looking into sub-sampling methods to ensure the model does not learn to always prefer \"False\", but I would like to proceed with the raw data before subsampling.***\n"
   ]
  },
  {
   "cell_type": "code",
   "execution_count": 7,
   "metadata": {
    "collapsed": false
   },
   "outputs": [],
   "source": [
    "# These data points will just contribute to noise\n",
    "clean_churn = churn_data.drop(['Area Code','State', 'Phone'], axis = 1)"
   ]
  },
  {
   "cell_type": "code",
   "execution_count": 8,
   "metadata": {
    "collapsed": false
   },
   "outputs": [
    {
     "data": {
      "text/html": [
       "<div>\n",
       "<table border=\"1\" class=\"dataframe\">\n",
       "  <thead>\n",
       "    <tr style=\"text-align: right;\">\n",
       "      <th></th>\n",
       "      <th>Account Length</th>\n",
       "      <th>Int'l Plan</th>\n",
       "      <th>VMail Plan</th>\n",
       "      <th>VMail Message</th>\n",
       "      <th>Day Mins</th>\n",
       "      <th>Day Calls</th>\n",
       "      <th>Day Charge</th>\n",
       "      <th>Eve Mins</th>\n",
       "      <th>Eve Calls</th>\n",
       "      <th>Eve Charge</th>\n",
       "      <th>Night Mins</th>\n",
       "      <th>Night Calls</th>\n",
       "      <th>Night Charge</th>\n",
       "      <th>Intl Mins</th>\n",
       "      <th>Intl Calls</th>\n",
       "      <th>Intl Charge</th>\n",
       "      <th>CustServ Calls</th>\n",
       "      <th>Churn?</th>\n",
       "    </tr>\n",
       "  </thead>\n",
       "  <tbody>\n",
       "    <tr>\n",
       "      <th>0</th>\n",
       "      <td>128</td>\n",
       "      <td>no</td>\n",
       "      <td>yes</td>\n",
       "      <td>25</td>\n",
       "      <td>265.1</td>\n",
       "      <td>110</td>\n",
       "      <td>45.07</td>\n",
       "      <td>197.4</td>\n",
       "      <td>99</td>\n",
       "      <td>16.78</td>\n",
       "      <td>244.7</td>\n",
       "      <td>91</td>\n",
       "      <td>11.01</td>\n",
       "      <td>10.0</td>\n",
       "      <td>3</td>\n",
       "      <td>2.70</td>\n",
       "      <td>1</td>\n",
       "      <td>False.</td>\n",
       "    </tr>\n",
       "    <tr>\n",
       "      <th>1</th>\n",
       "      <td>107</td>\n",
       "      <td>no</td>\n",
       "      <td>yes</td>\n",
       "      <td>26</td>\n",
       "      <td>161.6</td>\n",
       "      <td>123</td>\n",
       "      <td>27.47</td>\n",
       "      <td>195.5</td>\n",
       "      <td>103</td>\n",
       "      <td>16.62</td>\n",
       "      <td>254.4</td>\n",
       "      <td>103</td>\n",
       "      <td>11.45</td>\n",
       "      <td>13.7</td>\n",
       "      <td>3</td>\n",
       "      <td>3.70</td>\n",
       "      <td>1</td>\n",
       "      <td>False.</td>\n",
       "    </tr>\n",
       "    <tr>\n",
       "      <th>2</th>\n",
       "      <td>137</td>\n",
       "      <td>no</td>\n",
       "      <td>no</td>\n",
       "      <td>0</td>\n",
       "      <td>243.4</td>\n",
       "      <td>114</td>\n",
       "      <td>41.38</td>\n",
       "      <td>121.2</td>\n",
       "      <td>110</td>\n",
       "      <td>10.30</td>\n",
       "      <td>162.6</td>\n",
       "      <td>104</td>\n",
       "      <td>7.32</td>\n",
       "      <td>12.2</td>\n",
       "      <td>5</td>\n",
       "      <td>3.29</td>\n",
       "      <td>0</td>\n",
       "      <td>False.</td>\n",
       "    </tr>\n",
       "    <tr>\n",
       "      <th>3</th>\n",
       "      <td>84</td>\n",
       "      <td>yes</td>\n",
       "      <td>no</td>\n",
       "      <td>0</td>\n",
       "      <td>299.4</td>\n",
       "      <td>71</td>\n",
       "      <td>50.90</td>\n",
       "      <td>61.9</td>\n",
       "      <td>88</td>\n",
       "      <td>5.26</td>\n",
       "      <td>196.9</td>\n",
       "      <td>89</td>\n",
       "      <td>8.86</td>\n",
       "      <td>6.6</td>\n",
       "      <td>7</td>\n",
       "      <td>1.78</td>\n",
       "      <td>2</td>\n",
       "      <td>False.</td>\n",
       "    </tr>\n",
       "    <tr>\n",
       "      <th>4</th>\n",
       "      <td>75</td>\n",
       "      <td>yes</td>\n",
       "      <td>no</td>\n",
       "      <td>0</td>\n",
       "      <td>166.7</td>\n",
       "      <td>113</td>\n",
       "      <td>28.34</td>\n",
       "      <td>148.3</td>\n",
       "      <td>122</td>\n",
       "      <td>12.61</td>\n",
       "      <td>186.9</td>\n",
       "      <td>121</td>\n",
       "      <td>8.41</td>\n",
       "      <td>10.1</td>\n",
       "      <td>3</td>\n",
       "      <td>2.73</td>\n",
       "      <td>3</td>\n",
       "      <td>False.</td>\n",
       "    </tr>\n",
       "  </tbody>\n",
       "</table>\n",
       "</div>"
      ],
      "text/plain": [
       "   Account Length Int'l Plan VMail Plan  VMail Message  Day Mins  Day Calls  \\\n",
       "0             128         no        yes             25     265.1        110   \n",
       "1             107         no        yes             26     161.6        123   \n",
       "2             137         no         no              0     243.4        114   \n",
       "3              84        yes         no              0     299.4         71   \n",
       "4              75        yes         no              0     166.7        113   \n",
       "\n",
       "   Day Charge  Eve Mins  Eve Calls  Eve Charge  Night Mins  Night Calls  \\\n",
       "0       45.07     197.4         99       16.78       244.7           91   \n",
       "1       27.47     195.5        103       16.62       254.4          103   \n",
       "2       41.38     121.2        110       10.30       162.6          104   \n",
       "3       50.90      61.9         88        5.26       196.9           89   \n",
       "4       28.34     148.3        122       12.61       186.9          121   \n",
       "\n",
       "   Night Charge  Intl Mins  Intl Calls  Intl Charge  CustServ Calls  Churn?  \n",
       "0         11.01       10.0           3         2.70               1  False.  \n",
       "1         11.45       13.7           3         3.70               1  False.  \n",
       "2          7.32       12.2           5         3.29               0  False.  \n",
       "3          8.86        6.6           7         1.78               2  False.  \n",
       "4          8.41       10.1           3         2.73               3  False.  "
      ]
     },
     "execution_count": 8,
     "metadata": {},
     "output_type": "execute_result"
    }
   ],
   "source": [
    "#sanity check\n",
    "clean_churn.head()"
   ]
  },
  {
   "cell_type": "code",
   "execution_count": 9,
   "metadata": {
    "collapsed": false
   },
   "outputs": [],
   "source": [
    "#set target variable to binary (1,0) and remove from clean data\n",
    "#Source - http://stackoverflow.com/questions/19913659/pandas-conditional-creation-of-a-series-dataframe-column\n",
    "clean_churn[\"Churn?\"] = np.where(clean_churn[\"Churn?\"]==\"True.\", 1.0, 0.0)\n",
    "y = clean_churn['Churn?']\n",
    "#clean_churn = clean_churn.drop(['Churn?'], axis=1)"
   ]
  },
  {
   "cell_type": "code",
   "execution_count": 10,
   "metadata": {
    "collapsed": false
   },
   "outputs": [
    {
     "data": {
      "text/plain": [
       "array([ 0.,  1.])"
      ]
     },
     "execution_count": 10,
     "metadata": {},
     "output_type": "execute_result"
    }
   ],
   "source": [
    "#Sanity check\n",
    "np.unique(y)"
   ]
  },
  {
   "cell_type": "code",
   "execution_count": 11,
   "metadata": {
    "collapsed": false
   },
   "outputs": [],
   "source": [
    "#Source - http://stackoverflow.com/questions/19913659/pandas-conditional-creation-of-a-series-dataframe-column\n",
    "# Changing the yes/no to boolean\n",
    "clean_churn[\"Int'l Plan\"] = np.where(clean_churn[\"Int'l Plan\"]==\"yes\", 1.0, 0.0)\n",
    "clean_churn[\"VMail Plan\"] = np.where(clean_churn[\"VMail Plan\"]==\"yes\", 1.0, 0.0)"
   ]
  },
  {
   "cell_type": "code",
   "execution_count": 12,
   "metadata": {
    "collapsed": false
   },
   "outputs": [
    {
     "name": "stdout",
     "output_type": "stream",
     "text": [
      "[ 0.  1.] [ 0.  1.]\n"
     ]
    }
   ],
   "source": [
    "#Another Sanity check\n",
    "print np.unique(clean_churn[\"Int'l Plan\"]), np.unique(clean_churn[\"VMail Plan\"])"
   ]
  },
  {
   "cell_type": "code",
   "execution_count": 13,
   "metadata": {
    "collapsed": false
   },
   "outputs": [
    {
     "data": {
      "image/png": "[encoded data removed]",
      "text/plain": [
       "<matplotlib.figure.Figure at 0x111475250>"
      ]
     },
     "metadata": {},
     "output_type": "display_data"
    },
    {
     "name": "stdout",
     "output_type": "stream",
     "text": [
      "                Account Length  Int'l Plan  VMail Plan  VMail Message  \\\n",
      "Account Length        1.000000    0.024735    0.002918      -0.004628   \n",
      "Int'l Plan            0.024735    1.000000    0.006006       0.008745   \n",
      "VMail Plan            0.002918    0.006006    1.000000       0.956927   \n",
      "VMail Message        -0.004628    0.008745    0.956927       1.000000   \n",
      "Day Mins              0.006216    0.049396   -0.001684       0.000778   \n",
      "Day Calls             0.038470    0.003755   -0.011086      -0.009548   \n",
      "Day Charge            0.006214    0.049398   -0.001686       0.000776   \n",
      "Eve Mins             -0.006757    0.019100    0.021545       0.017562   \n",
      "Eve Calls             0.019260    0.006114   -0.006444      -0.005864   \n",
      "Eve Charge           -0.006745    0.019106    0.021559       0.017578   \n",
      "Night Mins           -0.008955   -0.028905    0.006079       0.007681   \n",
      "Night Calls          -0.013176    0.012451    0.015553       0.007123   \n",
      "Night Charge         -0.008960   -0.028913    0.006064       0.007663   \n",
      "Intl Mins             0.009514    0.045871   -0.001318       0.002856   \n",
      "Intl Calls            0.020661    0.017366    0.007618       0.013957   \n",
      "Intl Charge           0.009546    0.045780   -0.001276       0.002884   \n",
      "CustServ Calls       -0.003796   -0.024522   -0.017824      -0.013263   \n",
      "Churn?                0.016541    0.259852   -0.102148      -0.089728   \n",
      "\n",
      "                Day Mins  Day Calls  Day Charge  Eve Mins  Eve Calls  \\\n",
      "Account Length  0.006216   0.038470    0.006214 -0.006757   0.019260   \n",
      "Int'l Plan      0.049396   0.003755    0.049398  0.019100   0.006114   \n",
      "VMail Plan     -0.001684  -0.011086   -0.001686  0.021545  -0.006444   \n",
      "VMail Message   0.000778  -0.009548    0.000776  0.017562  -0.005864   \n",
      "Day Mins        1.000000   0.006750    1.000000  0.007043   0.015769   \n",
      "Day Calls       0.006750   1.000000    0.006753 -0.021451   0.006462   \n",
      "Day Charge      1.000000   0.006753    1.000000  0.007050   0.015769   \n",
      "Eve Mins        0.007043  -0.021451    0.007050  1.000000  -0.011430   \n",
      "Eve Calls       0.015769   0.006462    0.015769 -0.011430   1.000000   \n",
      "Eve Charge      0.007029  -0.021449    0.007036  1.000000  -0.011423   \n",
      "Night Mins      0.004323   0.022938    0.004324 -0.012584  -0.002093   \n",
      "Night Calls     0.022972  -0.019557    0.022972  0.007586   0.007710   \n",
      "Night Charge    0.004300   0.022927    0.004301 -0.012593  -0.002056   \n",
      "Intl Mins      -0.010155   0.021565   -0.010157 -0.011035   0.008703   \n",
      "Intl Calls      0.008033   0.004574    0.008032  0.002541   0.017434   \n",
      "Intl Charge    -0.010092   0.021666   -0.010094 -0.011067   0.008674   \n",
      "CustServ Calls -0.013423  -0.018942   -0.013427 -0.012985   0.002423   \n",
      "Churn?          0.205151   0.018459    0.205151  0.092796   0.009233   \n",
      "\n",
      "                Eve Charge  Night Mins  Night Calls  Night Charge  Intl Mins  \\\n",
      "Account Length   -0.006745   -0.008955    -0.013176     -0.008960   0.009514   \n",
      "Int'l Plan        0.019106   -0.028905     0.012451     -0.028913   0.045871   \n",
      "VMail Plan        0.021559    0.006079     0.015553      0.006064  -0.001318   \n",
      "VMail Message     0.017578    0.007681     0.007123      0.007663   0.002856   \n",
      "Day Mins          0.007029    0.004323     0.022972      0.004300  -0.010155   \n",
      "Day Calls        -0.021449    0.022938    -0.019557      0.022927   0.021565   \n",
      "Day Charge        0.007036    0.004324     0.022972      0.004301  -0.010157   \n",
      "Eve Mins          1.000000   -0.012584     0.007586     -0.012593  -0.011035   \n",
      "Eve Calls        -0.011423   -0.002093     0.007710     -0.002056   0.008703   \n",
      "Eve Charge        1.000000   -0.012592     0.007596     -0.012601  -0.011043   \n",
      "Night Mins       -0.012592    1.000000     0.011204      0.999999  -0.015207   \n",
      "Night Calls       0.007596    0.011204     1.000000      0.011188  -0.013605   \n",
      "Night Charge     -0.012601    0.999999     0.011188      1.000000  -0.015214   \n",
      "Intl Mins        -0.011043   -0.015207    -0.013605     -0.015214   1.000000   \n",
      "Intl Calls        0.002541   -0.012353     0.000305     -0.012329   0.032304   \n",
      "Intl Charge      -0.011074   -0.015180    -0.013630     -0.015186   0.999993   \n",
      "CustServ Calls   -0.012987   -0.009288    -0.012802     -0.009277  -0.009640   \n",
      "Churn?            0.092786    0.035493     0.006141      0.035496   0.068239   \n",
      "\n",
      "                Intl Calls  Intl Charge  CustServ Calls    Churn?  \n",
      "Account Length    0.020661     0.009546       -0.003796  0.016541  \n",
      "Int'l Plan        0.017366     0.045780       -0.024522  0.259852  \n",
      "VMail Plan        0.007618    -0.001276       -0.017824 -0.102148  \n",
      "VMail Message     0.013957     0.002884       -0.013263 -0.089728  \n",
      "Day Mins          0.008033    -0.010092       -0.013423  0.205151  \n",
      "Day Calls         0.004574     0.021666       -0.018942  0.018459  \n",
      "Day Charge        0.008032    -0.010094       -0.013427  0.205151  \n",
      "Eve Mins          0.002541    -0.011067       -0.012985  0.092796  \n",
      "Eve Calls         0.017434     0.008674        0.002423  0.009233  \n",
      "Eve Charge        0.002541    -0.011074       -0.012987  0.092786  \n",
      "Night Mins       -0.012353    -0.015180       -0.009288  0.035493  \n",
      "Night Calls       0.000305    -0.013630       -0.012802  0.006141  \n",
      "Night Charge     -0.012329    -0.015186       -0.009277  0.035496  \n",
      "Intl Mins         0.032304     0.999993       -0.009640  0.068239  \n",
      "Intl Calls        1.000000     0.032372       -0.017561 -0.052844  \n",
      "Intl Charge       0.032372     1.000000       -0.009675  0.068259  \n",
      "CustServ Calls   -0.017561    -0.009675        1.000000  0.208750  \n",
      "Churn?           -0.052844     0.068259        0.208750  1.000000  \n"
     ]
    }
   ],
   "source": [
    "corrmat = clean_churn.corr()\n",
    "\n",
    "# Set up the matplotlib figure\n",
    "f, ax = plt.subplots(figsize=(12, 9))\n",
    "\n",
    "# Draw the heatmap using seaborn\n",
    "sns.heatmap(corrmat, square=True)\n",
    "\n",
    "plt.show()\n",
    "print corrmat"
   ]
  },
  {
   "cell_type": "code",
   "execution_count": 14,
   "metadata": {
    "collapsed": false
   },
   "outputs": [
    {
     "data": {
      "image/png": "[encoded data removed]",
      "text/plain": [
       "<matplotlib.figure.Figure at 0x113eba850>"
      ]
     },
     "metadata": {},
     "output_type": "display_data"
    }
   ],
   "source": [
    "#box plot of distribution of pitch type and start speed\n",
    "clean_churn.boxplot(column = 'Day Charge', by = 'Churn?')\n",
    "plt.ylabel('Day Charge', fontsize = 14)\n",
    "plt.show()"
   ]
  },
  {
   "cell_type": "code",
   "execution_count": 15,
   "metadata": {
    "collapsed": false
   },
   "outputs": [],
   "source": [
    "churned = clean_churn['CustServ Calls'][clean_churn['Churn?'] == 1.0]"
   ]
  },
  {
   "cell_type": "code",
   "execution_count": 16,
   "metadata": {
    "collapsed": false
   },
   "outputs": [],
   "source": [
    "no_churn =clean_churn['CustServ Calls'][clean_churn['Churn?'] == 0.0]"
   ]
  },
  {
   "cell_type": "code",
   "execution_count": 17,
   "metadata": {
    "collapsed": false
   },
   "outputs": [
    {
     "data": {
      "image/png": "[encoded data removed]",
      "text/plain": [
       "<matplotlib.figure.Figure at 0x114141a90>"
      ]
     },
     "metadata": {},
     "output_type": "display_data"
    }
   ],
   "source": [
    "fig = plt.figure()\n",
    "ax = fig.add_subplot(111)\n",
    "ax.xaxis.label.set_color('red')\n",
    "sns.violinplot(data=[no_churn,churned], inner='quartile', cut=0)\n",
    "sns.despine()\n",
    "plt.title('Day Charge Distributions')\n",
    "plt.show()"
   ]
  },
  {
   "cell_type": "code",
   "execution_count": 18,
   "metadata": {
    "collapsed": false
   },
   "outputs": [
    {
     "data": {
      "text/plain": [
       "Account Length    0.016541\n",
       "Int'l Plan        0.259852\n",
       "VMail Plan       -0.102148\n",
       "VMail Message    -0.089728\n",
       "Day Mins          0.205151\n",
       "Day Calls         0.018459\n",
       "Day Charge        0.205151\n",
       "Eve Mins          0.092796\n",
       "Eve Calls         0.009233\n",
       "Eve Charge        0.092786\n",
       "Night Mins        0.035493\n",
       "Night Calls       0.006141\n",
       "Night Charge      0.035496\n",
       "Intl Mins         0.068239\n",
       "Intl Calls       -0.052844\n",
       "Intl Charge       0.068259\n",
       "CustServ Calls    0.208750\n",
       "Churn?            1.000000\n",
       "Name: Churn?, dtype: float64"
      ]
     },
     "execution_count": 18,
     "metadata": {},
     "output_type": "execute_result"
    }
   ],
   "source": [
    "corrmat[\"Churn?\"]"
   ]
  },
  {
   "cell_type": "code",
   "execution_count": 19,
   "metadata": {
    "collapsed": false
   },
   "outputs": [
    {
     "data": {
      "text/html": [
       "<div>\n",
       "<table border=\"1\" class=\"dataframe\">\n",
       "  <thead>\n",
       "    <tr style=\"text-align: right;\">\n",
       "      <th></th>\n",
       "      <th>Account Length</th>\n",
       "      <th>Int'l Plan</th>\n",
       "      <th>VMail Plan</th>\n",
       "      <th>VMail Message</th>\n",
       "      <th>Day Mins</th>\n",
       "      <th>Day Calls</th>\n",
       "      <th>Day Charge</th>\n",
       "      <th>Eve Mins</th>\n",
       "      <th>Eve Calls</th>\n",
       "      <th>Eve Charge</th>\n",
       "      <th>Night Mins</th>\n",
       "      <th>Night Calls</th>\n",
       "      <th>Night Charge</th>\n",
       "      <th>Intl Mins</th>\n",
       "      <th>Intl Calls</th>\n",
       "      <th>Intl Charge</th>\n",
       "      <th>CustServ Calls</th>\n",
       "      <th>Churn?</th>\n",
       "    </tr>\n",
       "  </thead>\n",
       "  <tbody>\n",
       "    <tr>\n",
       "      <th>0</th>\n",
       "      <td>128</td>\n",
       "      <td>0</td>\n",
       "      <td>1</td>\n",
       "      <td>25</td>\n",
       "      <td>265.1</td>\n",
       "      <td>110</td>\n",
       "      <td>45.07</td>\n",
       "      <td>197.4</td>\n",
       "      <td>99</td>\n",
       "      <td>16.78</td>\n",
       "      <td>244.7</td>\n",
       "      <td>91</td>\n",
       "      <td>11.01</td>\n",
       "      <td>10.0</td>\n",
       "      <td>3</td>\n",
       "      <td>2.70</td>\n",
       "      <td>1</td>\n",
       "      <td>0</td>\n",
       "    </tr>\n",
       "    <tr>\n",
       "      <th>1</th>\n",
       "      <td>107</td>\n",
       "      <td>0</td>\n",
       "      <td>1</td>\n",
       "      <td>26</td>\n",
       "      <td>161.6</td>\n",
       "      <td>123</td>\n",
       "      <td>27.47</td>\n",
       "      <td>195.5</td>\n",
       "      <td>103</td>\n",
       "      <td>16.62</td>\n",
       "      <td>254.4</td>\n",
       "      <td>103</td>\n",
       "      <td>11.45</td>\n",
       "      <td>13.7</td>\n",
       "      <td>3</td>\n",
       "      <td>3.70</td>\n",
       "      <td>1</td>\n",
       "      <td>0</td>\n",
       "    </tr>\n",
       "    <tr>\n",
       "      <th>2</th>\n",
       "      <td>137</td>\n",
       "      <td>0</td>\n",
       "      <td>0</td>\n",
       "      <td>0</td>\n",
       "      <td>243.4</td>\n",
       "      <td>114</td>\n",
       "      <td>41.38</td>\n",
       "      <td>121.2</td>\n",
       "      <td>110</td>\n",
       "      <td>10.30</td>\n",
       "      <td>162.6</td>\n",
       "      <td>104</td>\n",
       "      <td>7.32</td>\n",
       "      <td>12.2</td>\n",
       "      <td>5</td>\n",
       "      <td>3.29</td>\n",
       "      <td>0</td>\n",
       "      <td>0</td>\n",
       "    </tr>\n",
       "    <tr>\n",
       "      <th>3</th>\n",
       "      <td>84</td>\n",
       "      <td>1</td>\n",
       "      <td>0</td>\n",
       "      <td>0</td>\n",
       "      <td>299.4</td>\n",
       "      <td>71</td>\n",
       "      <td>50.90</td>\n",
       "      <td>61.9</td>\n",
       "      <td>88</td>\n",
       "      <td>5.26</td>\n",
       "      <td>196.9</td>\n",
       "      <td>89</td>\n",
       "      <td>8.86</td>\n",
       "      <td>6.6</td>\n",
       "      <td>7</td>\n",
       "      <td>1.78</td>\n",
       "      <td>2</td>\n",
       "      <td>0</td>\n",
       "    </tr>\n",
       "    <tr>\n",
       "      <th>4</th>\n",
       "      <td>75</td>\n",
       "      <td>1</td>\n",
       "      <td>0</td>\n",
       "      <td>0</td>\n",
       "      <td>166.7</td>\n",
       "      <td>113</td>\n",
       "      <td>28.34</td>\n",
       "      <td>148.3</td>\n",
       "      <td>122</td>\n",
       "      <td>12.61</td>\n",
       "      <td>186.9</td>\n",
       "      <td>121</td>\n",
       "      <td>8.41</td>\n",
       "      <td>10.1</td>\n",
       "      <td>3</td>\n",
       "      <td>2.73</td>\n",
       "      <td>3</td>\n",
       "      <td>0</td>\n",
       "    </tr>\n",
       "  </tbody>\n",
       "</table>\n",
       "</div>"
      ],
      "text/plain": [
       "   Account Length  Int'l Plan  VMail Plan  VMail Message  Day Mins  Day Calls  \\\n",
       "0             128           0           1             25     265.1        110   \n",
       "1             107           0           1             26     161.6        123   \n",
       "2             137           0           0              0     243.4        114   \n",
       "3              84           1           0              0     299.4         71   \n",
       "4              75           1           0              0     166.7        113   \n",
       "\n",
       "   Day Charge  Eve Mins  Eve Calls  Eve Charge  Night Mins  Night Calls  \\\n",
       "0       45.07     197.4         99       16.78       244.7           91   \n",
       "1       27.47     195.5        103       16.62       254.4          103   \n",
       "2       41.38     121.2        110       10.30       162.6          104   \n",
       "3       50.90      61.9         88        5.26       196.9           89   \n",
       "4       28.34     148.3        122       12.61       186.9          121   \n",
       "\n",
       "   Night Charge  Intl Mins  Intl Calls  Intl Charge  CustServ Calls  Churn?  \n",
       "0         11.01       10.0           3         2.70               1       0  \n",
       "1         11.45       13.7           3         3.70               1       0  \n",
       "2          7.32       12.2           5         3.29               0       0  \n",
       "3          8.86        6.6           7         1.78               2       0  \n",
       "4          8.41       10.1           3         2.73               3       0  "
      ]
     },
     "execution_count": 19,
     "metadata": {},
     "output_type": "execute_result"
    }
   ],
   "source": [
    "clean_churn.head()"
   ]
  },
  {
   "cell_type": "code",
   "execution_count": 20,
   "metadata": {
    "collapsed": true
   },
   "outputs": [],
   "source": [
    "# just may be a good idea to keep track of the numerical and categorical data points\n",
    "num_vars = ['Account Length','VMail Message','Day Mins','Day Calls','Eve Mins','Eve Charge',\n",
    "            'Night Mins', 'Night Calls', 'Night Charge','Intl Mins', 'Intl Calls', 'Intl Charge', 'CustServ Calls']\n",
    "cat_vars = [\"Int'l Plan\", 'VMail Plan']\n",
    "\n",
    "all_cols = [\"Int'l Plan\", 'VMail Plan','Account Length','VMail Message','Day Mins','Day Calls','Eve Mins','Eve Charge',\n",
    "            'Night Mins', 'Night Calls', 'Night Charge','Intl Mins', 'Intl Calls', 'Intl Charge', 'CustServ Calls' ]"
   ]
  },
  {
   "cell_type": "code",
   "execution_count": 21,
   "metadata": {
    "collapsed": false
   },
   "outputs": [
    {
     "data": {
      "image/png": "[encoded data removed]",
      "text/plain": [
       "<matplotlib.figure.Figure at 0x11456b450>"
      ]
     },
     "metadata": {},
     "output_type": "display_data"
    }
   ],
   "source": [
    "#looking at the distribution of the numerical features\n",
    "clean_churn[num_vars].hist(bins=10, figsize=(15,10))\n",
    "plt.show()"
   ]
  },
  {
   "cell_type": "markdown",
   "metadata": {},
   "source": [
    "***The numerical data seems normally distributed besides customer service calls, intl calls, and vmail message.***"
   ]
  },
  {
   "cell_type": "code",
   "execution_count": null,
   "metadata": {
    "collapsed": false
   },
   "outputs": [],
   "source": [
    "#scatter matrix of numerical vars\n",
    "ax = scatter_matrix(clean_churn[num_vars], figsize=(15,15))"
   ]
  },
  {
   "cell_type": "markdown",
   "metadata": {
    "collapsed": true
   },
   "source": [
    "***The minutes and charges for intl, night, day, and evening are highly correlated with each other. I also need to see if there is any correlation between any of the numeric and the categorical features as well. Let's look at a correlation matrix to confirm.*** "
   ]
  },
  {
   "cell_type": "code",
   "execution_count": null,
   "metadata": {
    "collapsed": false
   },
   "outputs": [],
   "source": [
    "#Correlation Matrix\n",
    "#Source - https://stanford.edu/~mwaskom/software/seaborn/examples/network_correlations.html\n",
    "corrmat = clean_churn.corr()\n",
    "\n",
    "# Set up the matplotlib figure\n",
    "f, ax = plt.subplots(figsize=(12, 9))\n",
    "\n",
    "# Draw the heatmap using seaborn\n",
    "sns.heatmap(corrmat, square=True)\n",
    "plt.show()\n",
    "print corrmat"
   ]
  },
  {
   "cell_type": "markdown",
   "metadata": {},
   "source": [
    "### Multicolinearity\n",
    "\n",
    "*** There is high multicollinearity between a number of features in the data set.  As mentioned above, international minutes and international calls have 100% correlation, night calls and night charges have 100% correlation, evening calls and evening minutes have 100% correlation, and daily minutes and daily calls have 100% correlation.  In addtion, there is a 95.6% correlation between Voicemail plan and Voicemail message.  For the 100% correlated features, I am going to just completely drop one of the features (all of the calls features).  In addition, I am going to drop the voicemail message feature and keep the voicemail plan feature.  To me, it wouldn't make sense to have a voicemall message feature without a voicemail plan feature.***"
   ]
  },
  {
   "cell_type": "code",
   "execution_count": 22,
   "metadata": {
    "collapsed": true
   },
   "outputs": [],
   "source": [
    "#dropping collinear features\n",
    "clean_churn = clean_churn.drop(['Day Mins','Night Mins', 'Eve Mins', 'Intl Mins',\n",
    "                               'VMail Message'], axis = 1)"
   ]
  },
  {
   "cell_type": "code",
   "execution_count": 23,
   "metadata": {
    "collapsed": false
   },
   "outputs": [
    {
     "data": {
      "text/html": [
       "<div>\n",
       "<table border=\"1\" class=\"dataframe\">\n",
       "  <thead>\n",
       "    <tr style=\"text-align: right;\">\n",
       "      <th></th>\n",
       "      <th>Account Length</th>\n",
       "      <th>Int'l Plan</th>\n",
       "      <th>VMail Plan</th>\n",
       "      <th>Day Calls</th>\n",
       "      <th>Day Charge</th>\n",
       "      <th>Eve Calls</th>\n",
       "      <th>Eve Charge</th>\n",
       "      <th>Night Calls</th>\n",
       "      <th>Night Charge</th>\n",
       "      <th>Intl Calls</th>\n",
       "      <th>Intl Charge</th>\n",
       "      <th>CustServ Calls</th>\n",
       "      <th>Churn?</th>\n",
       "    </tr>\n",
       "  </thead>\n",
       "  <tbody>\n",
       "    <tr>\n",
       "      <th>0</th>\n",
       "      <td>128</td>\n",
       "      <td>0</td>\n",
       "      <td>1</td>\n",
       "      <td>110</td>\n",
       "      <td>45.07</td>\n",
       "      <td>99</td>\n",
       "      <td>16.78</td>\n",
       "      <td>91</td>\n",
       "      <td>11.01</td>\n",
       "      <td>3</td>\n",
       "      <td>2.70</td>\n",
       "      <td>1</td>\n",
       "      <td>0</td>\n",
       "    </tr>\n",
       "    <tr>\n",
       "      <th>1</th>\n",
       "      <td>107</td>\n",
       "      <td>0</td>\n",
       "      <td>1</td>\n",
       "      <td>123</td>\n",
       "      <td>27.47</td>\n",
       "      <td>103</td>\n",
       "      <td>16.62</td>\n",
       "      <td>103</td>\n",
       "      <td>11.45</td>\n",
       "      <td>3</td>\n",
       "      <td>3.70</td>\n",
       "      <td>1</td>\n",
       "      <td>0</td>\n",
       "    </tr>\n",
       "    <tr>\n",
       "      <th>2</th>\n",
       "      <td>137</td>\n",
       "      <td>0</td>\n",
       "      <td>0</td>\n",
       "      <td>114</td>\n",
       "      <td>41.38</td>\n",
       "      <td>110</td>\n",
       "      <td>10.30</td>\n",
       "      <td>104</td>\n",
       "      <td>7.32</td>\n",
       "      <td>5</td>\n",
       "      <td>3.29</td>\n",
       "      <td>0</td>\n",
       "      <td>0</td>\n",
       "    </tr>\n",
       "    <tr>\n",
       "      <th>3</th>\n",
       "      <td>84</td>\n",
       "      <td>1</td>\n",
       "      <td>0</td>\n",
       "      <td>71</td>\n",
       "      <td>50.90</td>\n",
       "      <td>88</td>\n",
       "      <td>5.26</td>\n",
       "      <td>89</td>\n",
       "      <td>8.86</td>\n",
       "      <td>7</td>\n",
       "      <td>1.78</td>\n",
       "      <td>2</td>\n",
       "      <td>0</td>\n",
       "    </tr>\n",
       "    <tr>\n",
       "      <th>4</th>\n",
       "      <td>75</td>\n",
       "      <td>1</td>\n",
       "      <td>0</td>\n",
       "      <td>113</td>\n",
       "      <td>28.34</td>\n",
       "      <td>122</td>\n",
       "      <td>12.61</td>\n",
       "      <td>121</td>\n",
       "      <td>8.41</td>\n",
       "      <td>3</td>\n",
       "      <td>2.73</td>\n",
       "      <td>3</td>\n",
       "      <td>0</td>\n",
       "    </tr>\n",
       "  </tbody>\n",
       "</table>\n",
       "</div>"
      ],
      "text/plain": [
       "   Account Length  Int'l Plan  VMail Plan  Day Calls  Day Charge  Eve Calls  \\\n",
       "0             128           0           1        110       45.07         99   \n",
       "1             107           0           1        123       27.47        103   \n",
       "2             137           0           0        114       41.38        110   \n",
       "3              84           1           0         71       50.90         88   \n",
       "4              75           1           0        113       28.34        122   \n",
       "\n",
       "   Eve Charge  Night Calls  Night Charge  Intl Calls  Intl Charge  \\\n",
       "0       16.78           91         11.01           3         2.70   \n",
       "1       16.62          103         11.45           3         3.70   \n",
       "2       10.30          104          7.32           5         3.29   \n",
       "3        5.26           89          8.86           7         1.78   \n",
       "4       12.61          121          8.41           3         2.73   \n",
       "\n",
       "   CustServ Calls  Churn?  \n",
       "0               1       0  \n",
       "1               1       0  \n",
       "2               0       0  \n",
       "3               2       0  \n",
       "4               3       0  "
      ]
     },
     "execution_count": 23,
     "metadata": {},
     "output_type": "execute_result"
    }
   ],
   "source": [
    "#sanity chek\n",
    "clean_churn.head()"
   ]
  },
  {
   "cell_type": "code",
   "execution_count": 24,
   "metadata": {
    "collapsed": false
   },
   "outputs": [],
   "source": [
    "#Make data into matrix format so the models will cleanly take the data\n",
    "X = clean_churn.as_matrix().astype(np.float)"
   ]
  },
  {
   "cell_type": "code",
   "execution_count": 29,
   "metadata": {
    "collapsed": false
   },
   "outputs": [
    {
     "data": {
      "text/plain": [
       "101.06480648064806"
      ]
     },
     "execution_count": 29,
     "metadata": {},
     "output_type": "execute_result"
    }
   ],
   "source": [
    "X[:,0].mean()"
   ]
  },
  {
   "cell_type": "code",
   "execution_count": 30,
   "metadata": {
    "collapsed": false
   },
   "outputs": [
    {
     "data": {
      "text/plain": [
       "39.816131567159452"
      ]
     },
     "execution_count": 30,
     "metadata": {},
     "output_type": "execute_result"
    }
   ],
   "source": [
    "X[:,0].std()"
   ]
  },
  {
   "cell_type": "code",
   "execution_count": 35,
   "metadata": {
    "collapsed": false
   },
   "outputs": [
    {
     "data": {
      "text/plain": [
       "0.02511544845368165"
      ]
     },
     "execution_count": 35,
     "metadata": {},
     "output_type": "execute_result"
    }
   ],
   "source": [
    "(abs(102-101))/39.816131567159452"
   ]
  },
  {
   "cell_type": "code",
   "execution_count": 25,
   "metadata": {
    "collapsed": false
   },
   "outputs": [
    {
     "data": {
      "text/plain": [
       "35.979460176786908"
      ]
     },
     "execution_count": 25,
     "metadata": {},
     "output_type": "execute_result"
    }
   ],
   "source": [
    "X.mean()"
   ]
  },
  {
   "cell_type": "code",
   "execution_count": 26,
   "metadata": {
    "collapsed": false
   },
   "outputs": [
    {
     "data": {
      "text/plain": [
       "array([[ 128.  ,    0.  ,    1.  ,  110.  ,   45.07,   99.  ,   16.78,\n",
       "          91.  ,   11.01,    3.  ,    2.7 ,    1.  ,    0.  ],\n",
       "       [ 107.  ,    0.  ,    1.  ,  123.  ,   27.47,  103.  ,   16.62,\n",
       "         103.  ,   11.45,    3.  ,    3.7 ,    1.  ,    0.  ],\n",
       "       [ 137.  ,    0.  ,    0.  ,  114.  ,   41.38,  110.  ,   10.3 ,\n",
       "         104.  ,    7.32,    5.  ,    3.29,    0.  ,    0.  ]])"
      ]
     },
     "execution_count": 26,
     "metadata": {},
     "output_type": "execute_result"
    }
   ],
   "source": [
    "#Quick look at the matrix\n",
    "X[:3]"
   ]
  },
  {
   "cell_type": "code",
   "execution_count": 32,
   "metadata": {
    "collapsed": false
   },
   "outputs": [],
   "source": [
    "#Normalizing data before inputing to model\n",
    "SSinstance = StandardScaler()\n",
    "X = SSinstance.fit_transform(X)"
   ]
  },
  {
   "cell_type": "code",
   "execution_count": 33,
   "metadata": {
    "collapsed": false
   },
   "outputs": [
    {
     "data": {
      "text/plain": [
       "array([[ 0.67648946, -0.32758048,  1.6170861 ,  0.47664315,  1.56703625,\n",
       "        -0.05594035, -0.07042665, -0.46549436,  0.86602851, -0.60119509,\n",
       "        -0.0856905 , -0.42793202, -0.41167182],\n",
       "       [ 0.14906505, -0.32758048,  1.6170861 ,  1.12450284, -0.33401297,\n",
       "         0.14486653, -0.10754944,  0.14782467,  1.05938994, -0.60119509,\n",
       "         1.2411686 , -0.42793202, -0.41167182],\n",
       "       [ 0.9025285 , -0.32758048, -0.61839626,  0.67598459,  1.168464  ,\n",
       "         0.49627857, -1.57389963,  0.19893459, -0.75557074,  0.21153386,\n",
       "         0.69715637, -1.1882185 , -0.41167182]])"
      ]
     },
     "execution_count": 33,
     "metadata": {},
     "output_type": "execute_result"
    }
   ],
   "source": [
    "X[:3]"
   ]
  },
  {
   "cell_type": "code",
   "execution_count": 37,
   "metadata": {
    "collapsed": false
   },
   "outputs": [
    {
     "name": "stdout",
     "output_type": "stream",
     "text": [
      "0.0 -0.0\n",
      "1.0 1.0\n"
     ]
    }
   ],
   "source": [
    "print np.round(X[:,0].mean(),2), np.round(X[:,1].mean(),2)\n",
    "print X[:,0].std(), X[:,1].std()"
   ]
  },
  {
   "cell_type": "code",
   "execution_count": null,
   "metadata": {
    "collapsed": false
   },
   "outputs": [],
   "source": [
    "X.shape"
   ]
  },
  {
   "cell_type": "markdown",
   "metadata": {},
   "source": [
    "### PCA Analysis\n",
    "\n",
    "***If it's possible to reduce the dimensionality into only a few principal components, then the curse of dimensionality may not be as big of a problem when fitting. In addition, we can tell which features have the most variance in the data***"
   ]
  },
  {
   "cell_type": "code",
   "execution_count": null,
   "metadata": {
    "collapsed": false
   },
   "outputs": [],
   "source": [
    "cor_mat1 = np.corrcoef(X.T)\n",
    "eig_vals, eig_vecs = np.linalg.eig(cor_mat1)\n"
   ]
  },
  {
   "cell_type": "code",
   "execution_count": null,
   "metadata": {
    "collapsed": false
   },
   "outputs": [],
   "source": [
    "# Looking at sorted eigenvalues\n",
    "rounded_eigs = [np.around(i,5) for i in eig_vals]\n",
    "sorted_eigs  = sorted(rounded_eigs, reverse = True)\n",
    "print 'Eigenvalues in descending order:'\n",
    "for i in sorted_eigs:\n",
    "    print i "
   ]
  },
  {
   "cell_type": "markdown",
   "metadata": {
    "collapsed": true
   },
   "source": [
    "***Most of the variance in the data cannot be explained in only a few principal components. PCA isn't going to be too\n",
    "helpful due to the fact that the variance is spread across all of the components (12 of the 12 features).***"
   ]
  },
  {
   "cell_type": "markdown",
   "metadata": {},
   "source": [
    "### Functions for Model Comparison"
   ]
  },
  {
   "cell_type": "code",
   "execution_count": null,
   "metadata": {
    "collapsed": false
   },
   "outputs": [],
   "source": [
    "def fit_score(clf,xtrain,ytrain,xtest,ytest):\n",
    "    \"\"\"Fit the estimator and print the accuracy\"\"\"\n",
    "    clf.fit(xtrain,ytrain)\n",
    "    score = clf.score(xtest,ytest)\n",
    "    print \"Accuracy: %0.2f\"% score,\"%\" \n",
    "    \n",
    "def cv(clf,xtrain,ytrain,cv,scoretype):\n",
    "    \"\"\"Cross validate the estimator and perform 5-fold cross validation on the training set.  Print\n",
    "    out the mean and std of the scores.\"\"\"\n",
    "    scores = cross_validation.cross_val_score(clf, xtrain, ytrain, cv=5, scoring=scoretype)\n",
    "    print(\"%s: %0.2f (+/- %0.2f)\" % (scoretype, scores.mean(), scores.std()))\n",
    "\n",
    "\n",
    "def plot_confusion_matrix(cm, title='Confusion matrix', cmap=plt.cm.Blues):\n",
    "    \"\"\" Plot a confusion matrix\"\"\"\n",
    "    plt.imshow(cm, interpolation='nearest', cmap=cmap)\n",
    "    plt.title(title,fontsize=20)\n",
    "    plt.colorbar()\n",
    "    tick_marks = np.arange(len(set(y_test)))\n",
    "    plt.xticks(tick_marks, set(y_test), rotation=45)\n",
    "    plt.yticks(tick_marks, set(y_test))\n",
    "    plt.tight_layout()\n",
    "    plt.ylabel('True label', fontsize=15)\n",
    "    plt.xlabel('Predicted label',fontsize=15)\n",
    "      \n",
    "        \n",
    "def Roc_curve_plot(clf, X_test, y_test):\n",
    "    \"\"\"Plot a ROC Curve of the estimator\"\"\"\n",
    "    probsLR = list(clf.predict_proba(X_test)[:, 1])\n",
    "    fpr, tpr, threshLR = metrics.roc_curve(list(y_test), probsLR)\n",
    "    predictions = clf.predict(X_test)\n",
    "    print \"AUC:\", np.around(metrics.auc(fpr,tpr),3)\n",
    "    plt.plot(fpr,tpr)\n",
    "    plt.plot([0,1],[0,1])\n",
    "    Max = Roc_truth(clf,X_test, y_test)\n",
    "    x,y = Max[0], Max[1]\n",
    "    plt.plot(x, y, 'or')\n",
    "    plt.xlabel(\"False Positive Rate (1 - Specificity)\")\n",
    "    plt.ylabel(\"True Positive Rate (Sensitivity, Recall)\")\n",
    "    plt.title(\"ROC plot of Churn Data\")\n",
    "    plt.show()\n",
    "    \n",
    "def Roc_truth(clf, X_test, y_test,low=.00,high=.1):\n",
    "    \"Determine the max TPR with a FPR range of 0-10%\"\n",
    "    probsLR = list(clf.predict_proba(X_test)[:, 1])\n",
    "    fpr, tpr, threshLR = metrics.roc_curve(list(y_test), probsLR)\n",
    "    maxlist = []\n",
    "    for idx, i in enumerate(fpr):\n",
    "        if low <= i<= high:\n",
    "            maxlist.append((fpr[idx],tpr[idx]))\n",
    "    return np.around(max(maxlist, key = lambda x:x[1]),3)\n",
    "\n",
    "def important_feat(clf, data):\n",
    "    \"Create inputs for plotting feature importance\"\n",
    "    names = []\n",
    "    values = []\n",
    "    features = [(data.columns[idx],feature)for idx, feature in enumerate(clf.feature_importances_)]\n",
    "    sorted_features = sorted(features, key = lambda x: x[1], reverse = True)\n",
    "    for name, value in features_value:\n",
    "        names.append(name)\n",
    "        values.append(value)\n",
    "    return sorted_features, names, values"
   ]
  },
  {
   "cell_type": "markdown",
   "metadata": {},
   "source": [
    "### Model Comparison"
   ]
  },
  {
   "cell_type": "markdown",
   "metadata": {},
   "source": [
    "***I'll need to look at other metrics besides accuracy, precision and recall when comparing classifiers. Looking at AUC Roc Curves,the confusion matrix, and potentially the F1 score of each model will be good indicators of which model to prefer. My thoughts are that if it's possible, we would want to minimize our false negatives (missing people that churn) even if it means we increase our false positives(misclassifying non-churners as churners).  Since sci-kit learn's gridsearchcv function does not have a comparison for the confusion matrix, my comparison metric will be the metrics.roc_auc.  Generally, the best possible prediction method would yield a point in the upper left corner or coordinate (0,1) of the ROC space, representing 100% sensitivity (no false negatives) and 100% specificity (no false positives).  In addition, the confusion matrix should maximize TP's and TN's, while minimizing FP's and FN's.  I'll also look at what is the maximum TPR between a FPR of 0% and 10%.  I am assuming the max the telecom company would allow would be a 10% FPR, so then that would give me an idea of what the TPR looks like at 10% FPR.***"
   ]
  },
  {
   "cell_type": "code",
   "execution_count": null,
   "metadata": {
    "collapsed": false
   },
   "outputs": [],
   "source": [
    "#Test train split with a random state to compare with other models\n",
    "X_train, X_test, y_train, y_test = train_test_split(X, y, test_size=0.2,random_state = 1)"
   ]
  },
  {
   "cell_type": "markdown",
   "metadata": {},
   "source": [
    "### Logistic Regression"
   ]
  },
  {
   "cell_type": "markdown",
   "metadata": {},
   "source": [
    "***Logistic is a basic classifier which is a typical starting point for classifying a binary output.  It is simple to implement, interpretable, and is often very effective. In addition, we can interpret the coefficients in multiplicative terms with respect to the odds.E.g., the interpretation of β1 is, holding all the other variables/features fixed, for every increase of 1 in X1, the odds of Y=1 increases by a factor of exp(β1).***"
   ]
  },
  {
   "cell_type": "code",
   "execution_count": null,
   "metadata": {
    "collapsed": false
   },
   "outputs": [],
   "source": [
    "clfLR = linear_model.LogisticRegression(solver='lbfgs',random_state=1)\n",
    "fit_score(clfLR,X_train,y_train,X_test,y_test)\n",
    "cv(clfLR,X_train,y_train,5,\"roc_auc\")\n",
    "predictions = clfLR.predict(X_test)\n",
    "cm = confusion_matrix(y_test, predictions)\n",
    "print cm\n",
    "plt.figure(figsize=(5,5))\n",
    "plot_confusion_matrix(cm)  \n",
    "plt.figure(figsize=(7,5))\n",
    "Roc_curve_plot(clfLR,X_test,y_test)\n",
    "print \"Max True Positive Rate (TPR) under a maximum of a 10% False Positive Rate (FPR). Output is (FPR, TPR):\"\n",
    "Roc_truth(clfLR, X_test, y_test)"
   ]
  },
  {
   "cell_type": "markdown",
   "metadata": {},
   "source": [
    "### Random Forest"
   ]
  },
  {
   "cell_type": "markdown",
   "metadata": {},
   "source": [
    "*** Another extension of the Decision Tree classifier is the Random Forest.  The Random Forest algorithm is an an ensemble classifier that repeatedly and  randomly selects data from the dataset (with replacement) and builds a Decision Tree with each new sample.The default is to have the randomly selected data be the same size as the initial dataset. Note that since we are sampling with replacement, many data points will be repeated in the sample and many won't be included.Random Forests also limit each node of the Decision Tree to only consider splitting on a random subset of the features. Again we get all of the inherit benefits of a decsion tree, while also providing us many hyper parameters to investigate and tweak for potential improvments to the model.***\n",
    "\n",
    "***Easily interpretable and feature importance is identifiable***\n",
    "\n",
    "***Handles missing values and outliers***\n",
    "\n",
    "***Non-parametric/non-linear/model complex phenomenom***\n",
    "\n",
    "***Computationally cheap to predict***\n",
    "\n",
    "***Can handle irrelevant features***\n",
    "\n",
    "***Mixed data (nominal and continuous)***"
   ]
  },
  {
   "cell_type": "code",
   "execution_count": null,
   "metadata": {
    "collapsed": false
   },
   "outputs": [],
   "source": [
    "#Random Forests Classifier\n",
    "clfrf = ensemble.RandomForestClassifier(random_state=1, n_jobs=4)\n",
    "fit_score(clfrf,X_train,y_train,X_test,y_test)\n",
    "cv(clfrf,X_train,y_train,5,\"roc_auc\")\n",
    "predictions = clfrf.predict(X_test)\n",
    "cm = confusion_matrix(y_test, predictions)\n",
    "print cm\n",
    "plt.figure(figsize=(5,5))\n",
    "plot_confusion_matrix(cm)  \n",
    "plt.figure(figsize=(7,5))\n",
    "Roc_curve_plot(clfrf,X_test,y_test)\n",
    "print \"Max True Positive Rate (TPR) under a maximum of a 10% False Positive Rate (FPR). Output is (FPR, TPR):\"\n",
    "Roc_truth(clfrf, X_test, y_test)"
   ]
  },
  {
   "cell_type": "markdown",
   "metadata": {},
   "source": [
    "### AdaBoost"
   ]
  },
  {
   "cell_type": "markdown",
   "metadata": {},
   "source": [
    "***  AdaBoost is not as sensitive to unbalanced data as other classifiers. It utlizes a simple estimator like a decision tree and focuses on providing each tree a description of the mistakes of the last tree (through the cost \"loss\" function). Each tree is given the opportunity to adapt itself to the weaknesses of previous trees. Finally the end classifier is similar to a random forest, where each of the trees votes, weighted inversely to its own total error.  At the core, it is using a decision tree which enables the classifier to inherit the many benefits of a decision tree:***"
   ]
  },
  {
   "cell_type": "code",
   "execution_count": null,
   "metadata": {
    "collapsed": false
   },
   "outputs": [],
   "source": [
    "#Fitting the Classifier and evaluating metrics\n",
    "clfab = ensemble.AdaBoostClassifier(random_state=1)\n",
    "fit_score(clfab,X_train,y_train,X_test,y_test)\n",
    "cv(clfab,X_train,y_train,5,\"roc_auc\")\n",
    "predictions = clfab.predict(X_test)\n",
    "cm = confusion_matrix(y_test, predictions)\n",
    "print cm\n",
    "plt.figure(figsize=(5,5))\n",
    "plot_confusion_matrix(cm)  \n",
    "plt.figure(figsize=(7,5))\n",
    "Roc_curve_plot(clfab,X_test,y_test)\n",
    "print \"Max True Positive Rate (TPR) under a maximum of a 10% False Positive Rate (FPR). Output is (FPR, TPR):\"\n",
    "Roc_truth(clfab, X_test, y_test)"
   ]
  },
  {
   "cell_type": "markdown",
   "metadata": {},
   "source": [
    "### Picking a model to hyper tune\n",
    "\n",
    "***After comparing logistic regression, ada boost, and random forests, the random forest algorithm achieved better results across the board. At a 5% FPR the Random Forest had a 76% TPR compared to Ada Boost's 9% FPR with only a 62% TPR and compared to logistic regressions 9.5% FPR with only a 43% TPR.  In addition, the TP's and FN's for the Random Forest are 42 and 9, while adaboost's are 58 and 28 and logistic regression's are 81 and 17.  Since there is such substantial evidence for the Random Forest algorithm versus the other two, I chose to move forward with the Random Forest algorithm to start hyper tuning parameters.***"
   ]
  },
  {
   "cell_type": "markdown",
   "metadata": {},
   "source": [
    "### Grid Searching Hyper Parameters for Random Forest"
   ]
  },
  {
   "cell_type": "markdown",
   "metadata": {},
   "source": [
    "*** The Random Forest algorithm has a ton of hyper paramters that can be tuned to obtain an optimal classifier.  I am going to use grid search and a scoring comparison of 'roc_auc' when comparing the random forest models.  I am choosing roc_auc because it is more robust to unbalanced classes, and it was one of my measures for comparing the prior models.***"
   ]
  },
  {
   "cell_type": "code",
   "execution_count": null,
   "metadata": {
    "collapsed": false
   },
   "outputs": [],
   "source": [
    "import time\n",
    "start = time.time()\n",
    "clfERF = ensemble.RandomForestClassifier()\n",
    "paramsvec = [{'criterion':['gini','entropy'],'n_estimators':[10,20,50,100,150,300,500],'max_features':['auto',5,10],\n",
    "              'max_depth':[None,5,10,15],'min_samples_split':[2,3,4],\n",
    "              \"min_samples_leaf\":[1,2],\"class_weight\":[None, \"balanced\"], 'random_state':[1]}]\n",
    "#Building GridSearch object\n",
    "gs_RF = grid_search.GridSearchCV(clfERF,paramsvec,scoring='roc_auc', cv=5, n_jobs=-1)\n",
    "gs_RF.fit(X_train,y_train)\n",
    "\n",
    "#How long did it take?\n",
    "end = time.time()\n",
    "elapsed = end - start\n",
    "print(\"Time taken for GridSearch: \", elapsed, \"seconds.\")\n",
    "print(\"Best Score: %0.2f  \" % gs_RF.best_score_)\n",
    "print(\"Best Parameters: \", gs_RF.best_params_)"
   ]
  },
  {
   "cell_type": "code",
   "execution_count": null,
   "metadata": {
    "collapsed": true
   },
   "outputs": [],
   "source": [
    "clfoptimal = ensemble.RandomForestClassifier(random_state = 1,min_samples_leaf=1, n_estimators=20, \n",
    "                                         min_samples_split=3, max_features = 10, max_depth=10,criterion='entropy',\n",
    "                                         class_weight = 'balanced')"
   ]
  },
  {
   "cell_type": "code",
   "execution_count": null,
   "metadata": {
    "collapsed": false
   },
   "outputs": [],
   "source": [
    "# Testing the Optimal classifier\n",
    "fit_score(clfoptimal,X_train,y_train,X_test,y_test)\n",
    "cv(clfoptimal,X_train,y_train,5,\"roc_auc\")\n",
    "predictions = clfoptimal.predict(X_test)\n",
    "cm = confusion_matrix(y_test, predictions)\n",
    "print cm\n",
    "plt.figure(figsize=(5,5))\n",
    "plot_confusion_matrix(cm)  \n",
    "plt.figure(figsize=(7,5))\n",
    "Roc_curve_plot(clfoptimal,X_test,y_test)\n",
    "print \"Max True Positive Rate (TPR) under a maximum of a 10% False Positive Rate (FPR). Output is (FPR, TPR):\"\n",
    "Roc_truth(clfoptimal, X_test, y_test)"
   ]
  },
  {
   "cell_type": "code",
   "execution_count": null,
   "metadata": {
    "collapsed": false
   },
   "outputs": [],
   "source": [
    "#Plotting feature importance\n",
    "features, names, values=important_feat(clfoptimal,clean_churn)\n",
    "index = np.arange(17)\n",
    "bar_width = 0.35\n",
    "plt.figure(figsize=(10,5))\n",
    "rects1 = plt.bar(index, values, bar_width,\n",
    "                 color='b')\n",
    "plt.title('Feature Importance',fontsize=20)\n",
    "plt.xticks(range(len(values)),names, rotation=45, fontsize=10)\n",
    "plt.legend()\n",
    "plt.tight_layout()\n",
    "plt.show()"
   ]
  },
  {
   "cell_type": "code",
   "execution_count": null,
   "metadata": {
    "collapsed": true
   },
   "outputs": [],
   "source": []
  },
  {
   "cell_type": "markdown",
   "metadata": {},
   "source": [
    "### Conclusion\n",
    "\n",
    "***After comparing logistic regression, Ada Boost, and Random Forest (RF) I decided to go with the Random Forest Algorithm due to the fact that it performed better when comparing the roc curves, the confusion matrices, and and the TPR when the FPR was under 10%.  Once I decided to go with the Random Forest, I decided to tune the hyper parameters to see if I could minimize the true negatives (said they aren't churners when they are) and false positives (said they are churners when they aren't).  I actually increased my false positives by 3, but I was able to substantially decrease my true negatives from 42 to 25. The TPR for the original RF model was 73% at 5% FPR, while the optimized model had a TPR of 80.6% with a FPR of around 6%.  In addition, Random Forests provide the additional benefit of deriving feature importance.  It is easy to see from the above graph that the number of day minutes, the day charge, the number of customer service calls were the prominent features driving the model.  This information could then be used to help target specific areas within the company to make potential adjustments to decrease churn.***"
   ]
  }
 ],
 "metadata": {
  "kernelspec": {
   "display_name": "Python 2",
   "language": "python",
   "name": "python2"
  },
  "language_info": {
   "codemirror_mode": {
    "name": "ipython",
    "version": 2
   },
   "file_extension": ".py",
   "mimetype": "text/x-python",
   "name": "python",
   "nbconvert_exporter": "python",
   "pygments_lexer": "ipython2",
   "version": "2.7.11"
  }
 },
 "nbformat": 4,
 "nbformat_minor": 0
}
